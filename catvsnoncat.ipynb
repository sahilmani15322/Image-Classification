{
 "cells": [
  {
   "cell_type": "code",
   "execution_count": 11,
   "metadata": {},
   "outputs": [],
   "source": [
    "import h5py\n",
    "import pandas as pd\n",
    "import numpy as np\n",
    "import matplotlib.pyplot as plt\n",
    "import scipy.ndimage\n",
    "\n",
    "def load_data():\n",
    "    train_dataset = h5py.File('train_catvnoncat.h5', \"r\")\n",
    "    train_set_x_orig = np.array(train_dataset[\"train_set_x\"][:]) # your train set features\n",
    "    train_set_y_orig = np.array(train_dataset[\"train_set_y\"][:]) # your train set labels\n",
    "\n",
    "    test_dataset = h5py.File('test_catvnoncat.h5', \"r\")\n",
    "    test_set_x_orig = np.array(test_dataset[\"test_set_x\"][:]) # your test set features\n",
    "    test_set_y_orig = np.array(test_dataset[\"test_set_y\"][:]) # your test set labels\n",
    "\n",
    "    classes = np.array(test_dataset[\"list_classes\"][:]) # the list of classes\n",
    "    \n",
    "    train_set_y_orig = train_set_y_orig.reshape((1, train_set_y_orig.shape[0]))\n",
    "    test_set_y_orig = test_set_y_orig.reshape((1, test_set_y_orig.shape[0]))\n",
    "    \n",
    "    return train_set_x_orig, train_set_y_orig, test_set_x_orig, test_set_y_orig, classes"
   ]
  },
  {
   "cell_type": "code",
   "execution_count": 12,
   "metadata": {},
   "outputs": [
    {
     "data": {
      "image/png": "[encoded data removed]",
      "text/plain": [
       "<Figure size 432x288 with 1 Axes>"
      ]
     },
     "metadata": {},
     "output_type": "display_data"
    },
    {
     "name": "stdout",
     "output_type": "stream",
     "text": [
      "(209, 64, 64, 3)\n",
      "(209, 1)\n",
      "(50, 64, 64, 3)\n",
      "(50, 1)\n"
     ]
    }
   ],
   "source": [
    "train_x_orig, train_y, test_x_orig, test_y, classes = load_data()\n",
    "\n",
    "plt.imshow(train_x_orig[25])\n",
    "plt.show()\n",
    "train_x_orig = train_x_orig.astype('float32')\n",
    "test_x_orig = test_x_orig.astype('float32')\n",
    "train_x = train_x_orig/255\n",
    "test_x = test_x_orig/255\n",
    "train_y=train_y.T\n",
    "test_y=test_y.T\n",
    "print(train_x.shape)\n",
    "print(train_y.shape)\n",
    "print(test_x.shape)\n",
    "print(test_y.shape)"
   ]
  },
  {
   "cell_type": "code",
   "execution_count": 13,
   "metadata": {},
   "outputs": [],
   "source": [
    "from keras.models import Sequential\n",
    "from keras.layers import Dense, Conv2D, MaxPooling2D, Dropout, Flatten\n",
    "\n",
    "model = Sequential()\n",
    "model.add(Conv2D(32, (3,3), padding='same', activation='relu', input_shape=(64, 64, 3)))\n",
    "model.add(Conv2D(32, (3,3), activation='relu'))\n",
    "model.add(MaxPooling2D(pool_size=(2, 2)))\n",
    "model.add(Dropout(0.25))\n",
    "\n",
    "model.add(Conv2D(64, (3, 3), padding='same', activation='relu'))\n",
    "model.add(Conv2D(64, (3, 3), activation='relu'))\n",
    "model.add(MaxPooling2D(pool_size=(2, 2)))\n",
    "model.add(Dropout(0.25))\n",
    "\n",
    "model.add(Conv2D(64, (3, 3), padding='same', activation='relu'))\n",
    "model.add(Conv2D(64, (3, 3), activation='relu'))\n",
    "model.add(MaxPooling2D(pool_size=(2, 2)))\n",
    "model.add(Dropout(0.25))\n",
    "\n",
    "model.add(Flatten())\n",
    "model.add(Dense(512, activation='relu'))\n",
    "model.add(Dropout(0.5))\n",
    "model.add(Dense(1, activation='sigmoid'))      #softmax\n",
    "\n",
    "model.compile(optimizer='rmsprop',loss='binary_crossentropy',metrics=['accuracy'])    #categorical_crossentropy"
   ]
  },
  {
   "cell_type": "code",
   "execution_count": 14,
   "metadata": {},
   "outputs": [
    {
     "name": "stdout",
     "output_type": "stream",
     "text": [
      "Epoch 1/10\n",
      "209/209 [==============================] - 228s 1s/step - loss: 0.5165 - acc: 0.7593 - val_loss: 0.5269 - val_acc: 0.8600\n",
      "Epoch 2/10\n",
      "209/209 [==============================] - 216s 1s/step - loss: 0.3596 - acc: 0.8422 - val_loss: 0.4466 - val_acc: 0.8800\n",
      "Epoch 3/10\n",
      "209/209 [==============================] - 227s 1s/step - loss: 0.2951 - acc: 0.8782 - val_loss: 0.4993 - val_acc: 0.8400\n",
      "Epoch 4/10\n",
      "209/209 [==============================] - 255s 1s/step - loss: 0.2409 - acc: 0.9010 - val_loss: 0.3595 - val_acc: 0.8800\n",
      "Epoch 5/10\n",
      "209/209 [==============================] - 365s 2s/step - loss: 0.2072 - acc: 0.9216 - val_loss: 0.4194 - val_acc: 0.8600\n",
      "Epoch 6/10\n",
      "209/209 [==============================] - 464s 2s/step - loss: 0.1904 - acc: 0.9395 - val_loss: 1.8723 - val_acc: 0.7200\n",
      "Epoch 7/10\n",
      "209/209 [==============================] - 483s 2s/step - loss: 0.1686 - acc: 0.9464 - val_loss: 1.6802 - val_acc: 0.6800\n",
      "Epoch 8/10\n",
      "209/209 [==============================] - 484s 2s/step - loss: 0.1798 - acc: 0.9484 - val_loss: 0.4324 - val_acc: 0.8600\n",
      "Epoch 9/10\n",
      "209/209 [==============================] - 334s 2s/step - loss: 0.2050 - acc: 0.9539 - val_loss: 0.7841 - val_acc: 0.8200\n",
      "Epoch 10/10\n",
      "209/209 [==============================] - 379s 2s/step - loss: 0.1935 - acc: 0.9589 - val_loss: 0.8024 - val_acc: 0.8400\n",
      "209/209 [==============================] - 6s 27ms/step\n"
     ]
    },
    {
     "data": {
      "text/plain": [
       "[0.006980296239325372, 0.9952153110047847]"
      ]
     },
     "execution_count": 14,
     "metadata": {},
     "output_type": "execute_result"
    }
   ],
   "source": [
    "from keras.preprocessing.image import ImageDataGenerator\n",
    "batch_size=25\n",
    "epochs=10\n",
    "aug = ImageDataGenerator(rotation_range=25,width_shift_range=0.1,\n",
    "                         height_shift_range=0.1, shear_range=0.2, \n",
    "                         zoom_range=0.2,horizontal_flip=True, fill_mode=\"nearest\")\n",
    "\n",
    "model.fit_generator(aug.flow(train_x, train_y, batch_size=batch_size),\n",
    "                    validation_data=(test_x, test_y),steps_per_epoch=len(train_x),\n",
    "                    epochs=epochs, verbose=1)\n",
    "model.evaluate(train_x,train_y)"
   ]
  },
  {
   "cell_type": "code",
   "execution_count": 18,
   "metadata": {
    "scrolled": true
   },
   "outputs": [
    {
     "name": "stdout",
     "output_type": "stream",
     "text": [
      "50/50 [==============================] - 1s 23ms/step\n"
     ]
    },
    {
     "data": {
      "text/plain": [
       "[0.802367205619812, 0.8399999976158142]"
      ]
     },
     "execution_count": 18,
     "metadata": {},
     "output_type": "execute_result"
    }
   ],
   "source": [
    "model.evaluate(test_x,test_y)"
   ]
  },
  {
   "cell_type": "code",
   "execution_count": 21,
   "metadata": {},
   "outputs": [],
   "source": [
    "Y_pred=model.predict(test_x)"
   ]
  },
  {
   "cell_type": "code",
   "execution_count": 32,
   "metadata": {},
   "outputs": [],
   "source": [
    "for i in range(len(Y_pred)):\n",
    "    if Y_pred[i]>0.5:\n",
    "        Y_pred[i]=1\n",
    "    else:\n",
    "        Y_pred[i]=0\n",
    "        \n",
    "        "
   ]
  },
  {
   "cell_type": "code",
   "execution_count": 33,
   "metadata": {},
   "outputs": [],
   "source": [
    "from sklearn.metrics import confusion_matrix"
   ]
  },
  {
   "cell_type": "code",
   "execution_count": 34,
   "metadata": {},
   "outputs": [],
   "source": [
    "cm=confusion_matrix(test_y,Y_pred)"
   ]
  },
  {
   "cell_type": "code",
   "execution_count": 35,
   "metadata": {},
   "outputs": [
    {
     "data": {
      "text/plain": [
       "array([[16,  1],\n",
       "       [ 7, 26]], dtype=int64)"
      ]
     },
     "execution_count": 35,
     "metadata": {},
     "output_type": "execute_result"
    }
   ],
   "source": [
    "cm"
   ]
  },
  {
   "cell_type": "code",
   "execution_count": null,
   "metadata": {},
   "outputs": [],
   "source": []
  }
 ],
 "metadata": {
  "kernelspec": {
   "display_name": "Python 3",
   "language": "python",
   "name": "python3"
  },
  "language_info": {
   "codemirror_mode": {
    "name": "ipython",
    "version": 3
   },
   "file_extension": ".py",
   "mimetype": "text/x-python",
   "name": "python",
   "nbconvert_exporter": "python",
   "pygments_lexer": "ipython3",
   "version": "3.5.5"
  },
  "widgets": {
   "state": {},
   "version": "1.1.2"
  }
 },
 "nbformat": 4,
 "nbformat_minor": 2
}
